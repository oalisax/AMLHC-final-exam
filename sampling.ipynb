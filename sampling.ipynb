{
 "cells": [
  {
   "cell_type": "markdown",
   "id": "d374a1ee",
   "metadata": {},
   "source": [
    "## Dataset and sampling\n",
    "\n",
    "**Authors**: Alisa Ochs & André Schomakers\n",
    "\n",
    "**Date**: 29.05.25\n",
    "\n",
    "This interactive Python notebook `.ipynb` is designed to sample $\\frac{1}{10}$ of the chosen dataset _Chest X-Rays Computer Vision Project_, available on:\n",
    "[Roboflow](https://universe.roboflow.com/mohamed-traore-2ekkp/chest-x-rays-qjmia).\n",
    "\n",
    "The original dataset contains holds:\n",
    "\n",
    "train folder:\n",
    "- 1349 images with class NORMAL\n",
    "- 3883 images with class PNEUMONIA\n",
    "\n",
    "test folder:\n",
    "- 234 images with class NORMAL\n",
    "- 390 images with class PNEUMONIA\n",
    "\n",
    "Within  setup `target_directory` we now have $\\frac{1}{10}$ of the corresponding images for faster model training in our main `analysis.ipynb`.\n",
    "\n"
   ]
  },
  {
   "cell_type": "code",
   "execution_count": 1,
   "id": "ca1c7393",
   "metadata": {},
   "outputs": [],
   "source": [
    "# imports\n",
    "import os\n",
    "import shutil\n",
    "import random\n",
    "from pathlib import Path\n"
   ]
  },
  {
   "cell_type": "code",
   "execution_count": 2,
   "id": "65c5ebc0",
   "metadata": {},
   "outputs": [],
   "source": [
    "\n",
    "# --- Configuration ---\n",
    "SOURCE_BASE_DIR = Path(\"./ChestXRay2017/chest_xray\")\n",
    "TARGET_BASE_DIR = Path(\"./ChestXRay2017/chest_xray_sampled\")\n",
    "SAMPLING_FRACTION = 0.1 # 10 percent\n"
   ]
  },
  {
   "cell_type": "code",
   "execution_count": 3,
   "id": "a86cce98",
   "metadata": {},
   "outputs": [],
   "source": [
    "# AI generated code for sampling (Gemini 2.5)\n",
    "\n",
    "def get_image_files(directory):\n",
    "    \"\"\"Returns a list of image files (jpeg, jpg, png) in a directory.\"\"\"\n",
    "    image_extensions = ('.jpeg', '.jpg', '.png')\n",
    "    dir_path = Path(directory) # Ensure it's a Path object\n",
    "    if not dir_path.is_dir():\n",
    "        return []\n",
    "    return [f for f in os.listdir(dir_path) if f.lower().endswith(image_extensions)]\n",
    "\n",
    "# --- Main Sampling Logic ---\n",
    "def sample_dataset(source_base: Path, target_base: Path, fraction: float):\n",
    "    print(f\"Starting dataset sampling...\")\n",
    "    print(f\"Source: {source_base.resolve()}\")\n",
    "    print(f\"Target: {target_base.resolve()}\")\n",
    "    print(f\"Sampling fraction: {fraction*100:.1f}%\\n\")\n",
    "\n",
    "    if target_base.exists():\n",
    "        print(f\"Target directory '{target_base}' already exists. Removing it to start fresh.\")\n",
    "        shutil.rmtree(target_base)\n",
    "    \n",
    "    target_base.mkdir(parents=True, exist_ok=True)\n",
    "\n",
    "    splits = ['train', 'test']\n",
    "    classes = ['NORMAL', 'PNEUMONIA']\n",
    "\n",
    "    for split_name in splits:\n",
    "        source_split_dir = source_base / split_name\n",
    "        target_split_dir = target_base / split_name\n",
    "        \n",
    "        if not source_split_dir.exists():\n",
    "            print(f\"  WARNING: Source split directory '{source_split_dir}' not found. Skipping split: {split_name}\")\n",
    "            continue\n",
    "        \n",
    "        target_split_dir.mkdir(exist_ok=True) # Create target split dir only if source exists\n",
    "        print(f\"Processing split: {split_name}\")\n",
    "\n",
    "        for class_name in classes:\n",
    "            source_class_dir = source_split_dir / class_name\n",
    "            target_class_dir = target_split_dir / class_name\n",
    "\n",
    "            if not source_class_dir.exists():\n",
    "                print(f\"    WARNING: Source class directory '{source_class_dir}' not found. Skipping class: {class_name} in split: {split_name}\")\n",
    "                continue\n",
    "\n",
    "            target_class_dir.mkdir(exist_ok=True) # Create target class dir only if source exists\n",
    "            print(f\"  Processing class: {class_name}\")\n",
    "\n",
    "            image_files = get_image_files(source_class_dir)\n",
    "            \n",
    "            if not image_files:\n",
    "                print(f\"    No image files found in '{source_class_dir}'. Skipping.\")\n",
    "                continue\n",
    "\n",
    "            num_total_files = len(image_files)\n",
    "            \n",
    "            # Calculate number of files to sample\n",
    "            if num_total_files > 0 and fraction > 0:\n",
    "                num_to_sample = int(round(num_total_files * fraction))\n",
    "                # Ensure we sample at least one file if the calculation is > 0, but don't force sampling if result is 0\n",
    "                if num_to_sample == 0 and (num_total_files * fraction) > 0:\n",
    "                    num_to_sample = 1 \n",
    "            else:\n",
    "                num_to_sample = 0\n",
    "            \n",
    "            num_to_sample = min(num_to_sample, num_total_files) # Cannot sample more than available\n",
    "\n",
    "            if num_to_sample > 0:\n",
    "                print(f\"    Found {num_total_files} images. Sampling {num_to_sample} images.\")\n",
    "                sampled_files = random.sample(image_files, num_to_sample)\n",
    "                for file_name in sampled_files:\n",
    "                    source_file_path = source_class_dir / file_name\n",
    "                    target_file_path = target_class_dir / file_name\n",
    "                    shutil.copy2(source_file_path, target_file_path) # copy2 preserves metadata\n",
    "                print(f\"Copied {len(sampled_files)} files to '{target_class_dir}'\\n\")\n",
    "            else:\n",
    "                print(f\"Found {num_total_files} images. Sampling fraction {fraction*100:.1f}% results in 0 files to sample for this class.\\n\")\n",
    "            \n",
    "    print(\"Dataset sampling complete!\")\n",
    "    print_dataset_summary(target_base)\n",
    "\n",
    "\n",
    "def print_dataset_summary(base_dir: Path):\n",
    "    print(f\"\\n--- Summary of Sampled Dataset at '{base_dir.resolve()}' ---\")\n",
    "    for split_dir in sorted(base_dir.iterdir()): # Sort for consistent order\n",
    "        if split_dir.is_dir():\n",
    "            print(f\"Split: {split_dir.name}\")\n",
    "            for class_dir in sorted(split_dir.iterdir()): # Sort for consistent order\n",
    "                if class_dir.is_dir():\n",
    "                    num_files = len(get_image_files(class_dir))\n",
    "                    print(f\"  Class: {class_dir.name} - Files: {num_files}\")\n",
    "    print(\"--------------------------------------------------\")\n"
   ]
  },
  {
   "cell_type": "code",
   "execution_count": 4,
   "id": "fee02cad",
   "metadata": {},
   "outputs": [
    {
     "name": "stdout",
     "output_type": "stream",
     "text": [
      "Current Working Directory for path resolution: C:\\Users\\alisa\\OneDrive\\UMIT\\2 Semester\\Modul 12 Applications of Machine Learning in Health Care\\AMLHC-final-exam\n"
     ]
    }
   ],
   "source": [
    "current_working_directory = Path.cwd()\n",
    "print(f\"Current Working Directory for path resolution: {current_working_directory.resolve()}\")"
   ]
  },
  {
   "cell_type": "code",
   "execution_count": 5,
   "id": "a3474c34",
   "metadata": {},
   "outputs": [],
   "source": [
    "CHESTXRAY_ROOT_SOURCE_BASE_DIR = current_working_directory / \"chest_xray\"\n",
    "CHESTXRAY_ROOT_TARGET_BASE_DIR = current_working_directory / \"chest_xray_sampled\""
   ]
  },
  {
   "cell_type": "code",
   "execution_count": null,
   "id": "bf8476d2",
   "metadata": {},
   "outputs": [],
   "source": [
    "sample_dataset(CHESTXRAY_ROOT_SOURCE_BASE_DIR, CHESTXRAY_ROOT_TARGET_BASE_DIR, fraction=0.1)"
   ]
  },
  {
   "cell_type": "markdown",
   "id": "548bb709",
   "metadata": {},
   "source": []
  }
 ],
 "metadata": {
  "kernelspec": {
   "display_name": "Python 3",
   "language": "python",
   "name": "python3"
  },
  "language_info": {
   "codemirror_mode": {
    "name": "ipython",
    "version": 3
   },
   "file_extension": ".py",
   "mimetype": "text/x-python",
   "name": "python",
   "nbconvert_exporter": "python",
   "pygments_lexer": "ipython3",
   "version": "3.13.2"
  }
 },
 "nbformat": 4,
 "nbformat_minor": 5
}
