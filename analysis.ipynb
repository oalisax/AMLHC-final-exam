{
 "cells": [
  {
   "cell_type": "markdown",
   "id": "02d75486",
   "metadata": {},
   "source": [
    "## Analysis: Supervised transfer learning with ResNet50\n",
    "\n",
    "**Authors**: Alisa Ochs & André Schomakers\n",
    "\n",
    "**Date**: 29.05.25\n",
    "\n",
    "This Python notebook `.ipynb` takes the sampled _Chest X-Rays Computer Vision Project_ dataset with 584 images and we describe a knowledge discovery workflow to classify corresponding chest xray images as \"normal\" or \"pneumonia\" (supervised classification problem with binary target).   \n",
    "\n",
    "**Research question**: Can a pre-trained ResNet50 correctly classify chest xrays with a high accuracy (>80%)? \n",
    "\n",
    "**Type of question**: In this case, we are dealing with a diagnostic research question. We would initially examine if a ResNet is capable of predicting pneumonia before using it in a clinic (prognostic approach).\n",
    "\n",
    "Our approach was inspired by:\n",
    "Showkat S, Qureshi S. Efficacy of Transfer Learning-based ResNet models in Chest X-ray image classification for detecting COVID-19 Pneumonia. Chemometrics and Intelligent Laboratory Systems [Internet]. 2022 Mar 10;224:104534. Available from: https://doi.org/10.1016/j.chemolab.2022.104534\n"
   ]
  },
  {
   "cell_type": "markdown",
   "id": "09f5bc22",
   "metadata": {},
   "source": [
    "### Data inspection and train-test split check-up after sampling"
   ]
  },
  {
   "cell_type": "code",
   "execution_count": 1,
   "id": "a4b2173c",
   "metadata": {},
   "outputs": [
    {
     "ename": "ModuleNotFoundError",
     "evalue": "No module named 'cv2'",
     "output_type": "error",
     "traceback": [
      "\u001b[1;31m---------------------------------------------------------------------------\u001b[0m",
      "\u001b[1;31mModuleNotFoundError\u001b[0m                       Traceback (most recent call last)",
      "Cell \u001b[1;32mIn[1], line 2\u001b[0m\n\u001b[0;32m      1\u001b[0m \u001b[38;5;66;03m# imports\u001b[39;00m\n\u001b[1;32m----> 2\u001b[0m \u001b[38;5;28;01mimport\u001b[39;00m\u001b[38;5;250m \u001b[39m\u001b[38;5;21;01mcv2\u001b[39;00m\n\u001b[0;32m      3\u001b[0m \u001b[38;5;28;01mimport\u001b[39;00m\u001b[38;5;250m \u001b[39m\u001b[38;5;21;01mnumpy\u001b[39;00m\u001b[38;5;250m \u001b[39m\u001b[38;5;28;01mas\u001b[39;00m\u001b[38;5;250m \u001b[39m\u001b[38;5;21;01mnp\u001b[39;00m\n\u001b[0;32m      4\u001b[0m \u001b[38;5;28;01mimport\u001b[39;00m\u001b[38;5;250m \u001b[39m\u001b[38;5;21;01mpandas\u001b[39;00m\u001b[38;5;250m \u001b[39m\u001b[38;5;28;01mas\u001b[39;00m\u001b[38;5;250m \u001b[39m\u001b[38;5;21;01mpd\u001b[39;00m\n",
      "\u001b[1;31mModuleNotFoundError\u001b[0m: No module named 'cv2'"
     ]
    }
   ],
   "source": [
    "# imports\n",
    "import cv2\n",
    "import numpy as np\n",
    "import pandas as pd\n",
    "import matplotlib.pyplot as plt\n",
    "import seaborn as sns\n",
    "import os\n"
   ]
  },
  {
   "cell_type": "markdown",
   "id": "436cdc47",
   "metadata": {},
   "source": [
    "### Preprocessing\n",
    "- Scaling\n",
    "- Augmentation is skipped in this case\n",
    "- "
   ]
  },
  {
   "cell_type": "code",
   "execution_count": null,
   "id": "f7736b10",
   "metadata": {},
   "outputs": [],
   "source": []
  },
  {
   "cell_type": "markdown",
   "id": "b6ed9f55",
   "metadata": {},
   "source": [
    "### Transfer learning: model training"
   ]
  },
  {
   "cell_type": "code",
   "execution_count": null,
   "id": "e73c9e08",
   "metadata": {},
   "outputs": [],
   "source": []
  },
  {
   "cell_type": "markdown",
   "id": "1616a852",
   "metadata": {},
   "source": [
    "### Transfer learning: model prediction (testing)"
   ]
  },
  {
   "cell_type": "code",
   "execution_count": null,
   "id": "3afd887d",
   "metadata": {},
   "outputs": [],
   "source": []
  },
  {
   "cell_type": "code",
   "execution_count": null,
   "id": "18eeb837",
   "metadata": {},
   "outputs": [],
   "source": []
  }
 ],
 "metadata": {
  "kernelspec": {
   "display_name": "venv",
   "language": "python",
   "name": "python3"
  },
  "language_info": {
   "codemirror_mode": {
    "name": "ipython",
    "version": 3
   },
   "file_extension": ".py",
   "mimetype": "text/x-python",
   "name": "python",
   "nbconvert_exporter": "python",
   "pygments_lexer": "ipython3",
   "version": "3.13.2"
  }
 },
 "nbformat": 4,
 "nbformat_minor": 5
}
